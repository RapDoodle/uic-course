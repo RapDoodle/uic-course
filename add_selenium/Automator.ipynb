{
 "cells": [
  {
   "cell_type": "markdown",
   "metadata": {},
   "source": [
    "### Installing Libraries"
   ]
  },
  {
   "cell_type": "code",
   "execution_count": null,
   "metadata": {},
   "outputs": [],
   "source": [
    "!pip install selenium\n",
    "!pip install numpy"
   ]
  },
  {
   "cell_type": "markdown",
   "metadata": {},
   "source": [
    "### Importing Libraries"
   ]
  },
  {
   "cell_type": "code",
   "execution_count": null,
   "metadata": {},
   "outputs": [],
   "source": [
    "import time\n",
    "import random\n",
    "import datetime\n",
    "import numpy as np\n",
    "from selenium import webdriver\n",
    "from selenium.webdriver.common.by import By\n",
    "from selenium.webdriver.common.keys import Keys\n",
    "from selenium.webdriver.support.ui import WebDriverWait\n",
    "from selenium.webdriver.support import expected_conditions as EC"
   ]
  },
  {
   "cell_type": "markdown",
   "metadata": {},
   "source": [
    "### Setting Global Variables"
   ]
  },
  {
   "cell_type": "code",
   "execution_count": null,
   "metadata": {},
   "outputs": [],
   "source": [
    "PATH = './bin/chromedriver.exe'\n",
    "# Your username\n",
    "USERNAME = ''\n",
    "# Your password\n",
    "PASSWORD = ''\n",
    "# Course name\n",
    "COURSE_NAME = ''\n",
    "# Refresh rate\n",
    "REFRESH_RATE = 30\n",
    "# Standard deviation of the normal distribution\n",
    "STD = 5"
   ]
  },
  {
   "cell_type": "markdown",
   "metadata": {},
   "source": [
    "### Setting Up Session"
   ]
  },
  {
   "cell_type": "code",
   "execution_count": null,
   "metadata": {},
   "outputs": [],
   "source": [
    "driver = webdriver.Chrome(PATH)"
   ]
  },
  {
   "cell_type": "markdown",
   "metadata": {},
   "source": [
    "### Automator"
   ]
  },
  {
   "cell_type": "markdown",
   "metadata": {},
   "source": [
    "###### Login"
   ]
  },
  {
   "cell_type": "code",
   "execution_count": null,
   "metadata": {},
   "outputs": [],
   "source": [
    "driver.get('https://mis.uic.edu.hk/')\n",
    "WebDriverWait(driver, 5).until(\n",
    "    EC.presence_of_element_located((By.CSS_SELECTOR, '.logotitle'))\n",
    ")\n",
    "username_field = driver.find_element_by_id('uid')\n",
    "username_field.send_keys(USERNAME)\n",
    "password_field = driver.find_element_by_name('password')\n",
    "password_field.send_keys(PASSWORD)\n",
    "password_field.send_keys(Keys.RETURN)"
   ]
  },
  {
   "cell_type": "markdown",
   "metadata": {},
   "source": [
    "###### Search for Course"
   ]
  },
  {
   "cell_type": "code",
   "execution_count": null,
   "metadata": {},
   "outputs": [],
   "source": [
    "SUCCESS = False\n",
    "\n",
    "while True:\n",
    "    driver.get('https://mis.uic.edu.hk/mis/student/as/home.do')\n",
    "    WebDriverWait(driver, 5).until(\n",
    "        EC.presence_of_element_located((By.CSS_SELECTOR, '.tablestyle-2'))\n",
    "    )\n",
    "    search_field = driver.find_element_by_name('keyWord')\n",
    "    search_field.send_keys(COURSE_NAME)\n",
    "    search_field.send_keys(Keys.RETURN)\n",
    "    table = driver.find_element_by_class_name('tablestyle-10')\n",
    "    trs = table.find_elements_by_tag_name('tr')\n",
    "    for idx, tr in enumerate(trs):\n",
    "        if idx == 0:\n",
    "            ths = tr.find_elements_by_tag_name('th')\n",
    "            assert len(ths) == 8\n",
    "            continue\n",
    "        tds = tr.find_elements_by_tag_name('td')\n",
    "        if tds[1].text == COURSE_NAME:\n",
    "            btn = tds[-1].find_element_by_tag_name('input')\n",
    "            course_status = btn.get_attribute('value')\n",
    "            if course_status == 'Add':\n",
    "            # if course_status == 'Forbid Add':\n",
    "                btn.click()\n",
    "                \n",
    "                # Accept the alert\n",
    "                driver.switch_to.alert.accept()\n",
    "                \n",
    "                # Check in the list of registered courses\n",
    "                driver.get('https://mis.uic.edu.hk/mis/student/as/home.do')\n",
    "                WebDriverWait(driver, 5).until(\n",
    "                    EC.presence_of_element_located((By.CSS_SELECTOR, '.tablestyle-2'))\n",
    "                )\n",
    "                rc_table = driver.find_element_by_class_name('tablestyle-2')\n",
    "                rc_trs = rc_table.find_elements_by_tag_name('tr')\n",
    "                for tc_idx, tc_tr in enumerate(rc_trs):\n",
    "                    if tc_idx == 0:\n",
    "                        tc_ths = tc_tr.find_elements_by_tag_name('th')\n",
    "                        assert len(tc_ths) == 1\n",
    "                        continue\n",
    "                    \n",
    "                    if tc_idx == 1:\n",
    "                        tc_ths = tc_tr.find_elements_by_tag_name('th')\n",
    "                        assert len(tc_ths) == 7\n",
    "                        continue\n",
    "                        \n",
    "                    rc_tds = tc_tr.find_elements_by_tag_name('td')\n",
    "                    if rc_tds[1].text == COURSE_NAME:\n",
    "                        SUCCESS = True\n",
    "                        course_status = 'Successfully added'\n",
    "                        break\n",
    "                    else:\n",
    "                        course_status = 'Missed'\n",
    "    \n",
    "    res = '[{}][{}] {}'.format(str(datetime.datetime.now()), COURSE_NAME, course_status)\n",
    "    with open('./log.txt', 'a') as log:\n",
    "        log.write(res + '\\n')\n",
    "        \n",
    "    if SUCCESS:\n",
    "        print(res)\n",
    "        break\n",
    "        \n",
    "    sleep_time = np.abs(np.random.normal(REFRESH_RATE, STD))\n",
    "    print(res + '. Pausing for {}s.'.format(round(sleep_time, 2)), end = '\\r')\n",
    "    time.sleep(sleep_time)"
   ]
  },
  {
   "cell_type": "code",
   "execution_count": null,
   "metadata": {},
   "outputs": [],
   "source": []
  }
 ],
 "metadata": {
  "kernelspec": {
   "display_name": "Python 3",
   "language": "python",
   "name": "python3"
  },
  "language_info": {
   "codemirror_mode": {
    "name": "ipython",
    "version": 3
   },
   "file_extension": ".py",
   "mimetype": "text/x-python",
   "name": "python",
   "nbconvert_exporter": "python",
   "pygments_lexer": "ipython3",
   "version": "3.7.6"
  }
 },
 "nbformat": 4,
 "nbformat_minor": 4
}
